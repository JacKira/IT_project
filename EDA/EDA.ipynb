{
 "cells": [
  {
   "cell_type": "markdown",
   "metadata": {},
   "source": [
    "## Разведочный анализ данных"
   ]
  },
  {
   "cell_type": "code",
   "execution_count": 1,
   "metadata": {},
   "outputs": [],
   "source": [
    "import pandas as pd\n",
    "import numpy as np\n",
    "import matplotlib.pyplot as plt\n",
    "import seaborn as sbn"
   ]
  },
  {
   "cell_type": "code",
   "execution_count": 2,
   "metadata": {},
   "outputs": [],
   "source": [
    "ds_control = pd.read_csv('control_data.csv')"
   ]
  },
  {
   "cell_type": "markdown",
   "metadata": {},
   "source": [
    "Рассмотрим имеющиеся в нашем распоряжении данные:"
   ]
  },
  {
   "cell_type": "code",
   "execution_count": 3,
   "metadata": {},
   "outputs": [
    {
     "data": {
      "text/html": [
       "<div>\n",
       "<style scoped>\n",
       "    .dataframe tbody tr th:only-of-type {\n",
       "        vertical-align: middle;\n",
       "    }\n",
       "\n",
       "    .dataframe tbody tr th {\n",
       "        vertical-align: top;\n",
       "    }\n",
       "\n",
       "    .dataframe thead th {\n",
       "        text-align: right;\n",
       "    }\n",
       "</style>\n",
       "<table border=\"1\" class=\"dataframe\">\n",
       "  <thead>\n",
       "    <tr style=\"text-align: right;\">\n",
       "      <th></th>\n",
       "      <th>Date</th>\n",
       "      <th>Pageviews</th>\n",
       "      <th>Clicks</th>\n",
       "      <th>Enrollments</th>\n",
       "      <th>Payments</th>\n",
       "    </tr>\n",
       "  </thead>\n",
       "  <tbody>\n",
       "    <tr>\n",
       "      <th>0</th>\n",
       "      <td>Sat, Oct 11</td>\n",
       "      <td>7723</td>\n",
       "      <td>687</td>\n",
       "      <td>134.0</td>\n",
       "      <td>70.0</td>\n",
       "    </tr>\n",
       "    <tr>\n",
       "      <th>1</th>\n",
       "      <td>Sun, Oct 12</td>\n",
       "      <td>9102</td>\n",
       "      <td>779</td>\n",
       "      <td>147.0</td>\n",
       "      <td>70.0</td>\n",
       "    </tr>\n",
       "    <tr>\n",
       "      <th>2</th>\n",
       "      <td>Mon, Oct 13</td>\n",
       "      <td>10511</td>\n",
       "      <td>909</td>\n",
       "      <td>167.0</td>\n",
       "      <td>95.0</td>\n",
       "    </tr>\n",
       "    <tr>\n",
       "      <th>3</th>\n",
       "      <td>Tue, Oct 14</td>\n",
       "      <td>9871</td>\n",
       "      <td>836</td>\n",
       "      <td>156.0</td>\n",
       "      <td>105.0</td>\n",
       "    </tr>\n",
       "    <tr>\n",
       "      <th>4</th>\n",
       "      <td>Wed, Oct 15</td>\n",
       "      <td>10014</td>\n",
       "      <td>837</td>\n",
       "      <td>163.0</td>\n",
       "      <td>64.0</td>\n",
       "    </tr>\n",
       "  </tbody>\n",
       "</table>\n",
       "</div>"
      ],
      "text/plain": [
       "          Date  Pageviews  Clicks  Enrollments  Payments\n",
       "0  Sat, Oct 11       7723     687        134.0      70.0\n",
       "1  Sun, Oct 12       9102     779        147.0      70.0\n",
       "2  Mon, Oct 13      10511     909        167.0      95.0\n",
       "3  Tue, Oct 14       9871     836        156.0     105.0\n",
       "4  Wed, Oct 15      10014     837        163.0      64.0"
      ]
     },
     "execution_count": 3,
     "metadata": {},
     "output_type": "execute_result"
    }
   ],
   "source": [
    "ds_control.head()"
   ]
  },
  {
   "cell_type": "markdown",
   "metadata": {},
   "source": [
    "Составим интересующие нас метрики по имеющимся данным:"
   ]
  },
  {
   "cell_type": "code",
   "execution_count": 4,
   "metadata": {},
   "outputs": [
    {
     "data": {
      "text/html": [
       "<div>\n",
       "<style scoped>\n",
       "    .dataframe tbody tr th:only-of-type {\n",
       "        vertical-align: middle;\n",
       "    }\n",
       "\n",
       "    .dataframe tbody tr th {\n",
       "        vertical-align: top;\n",
       "    }\n",
       "\n",
       "    .dataframe thead th {\n",
       "        text-align: right;\n",
       "    }\n",
       "</style>\n",
       "<table border=\"1\" class=\"dataframe\">\n",
       "  <thead>\n",
       "    <tr style=\"text-align: right;\">\n",
       "      <th></th>\n",
       "      <th>Date</th>\n",
       "      <th>Pageviews</th>\n",
       "      <th>Clicks</th>\n",
       "      <th>Enrollments</th>\n",
       "      <th>Payments</th>\n",
       "      <th>CTP</th>\n",
       "      <th>GC</th>\n",
       "      <th>Retention</th>\n",
       "      <th>NC</th>\n",
       "      <th>PP</th>\n",
       "    </tr>\n",
       "  </thead>\n",
       "  <tbody>\n",
       "    <tr>\n",
       "      <th>0</th>\n",
       "      <td>Sat, Oct 11</td>\n",
       "      <td>7723</td>\n",
       "      <td>687</td>\n",
       "      <td>134.0</td>\n",
       "      <td>70.0</td>\n",
       "      <td>0.089</td>\n",
       "      <td>0.195</td>\n",
       "      <td>0.522</td>\n",
       "      <td>0.102</td>\n",
       "      <td>0.009</td>\n",
       "    </tr>\n",
       "    <tr>\n",
       "      <th>1</th>\n",
       "      <td>Sun, Oct 12</td>\n",
       "      <td>9102</td>\n",
       "      <td>779</td>\n",
       "      <td>147.0</td>\n",
       "      <td>70.0</td>\n",
       "      <td>0.086</td>\n",
       "      <td>0.189</td>\n",
       "      <td>0.476</td>\n",
       "      <td>0.090</td>\n",
       "      <td>0.008</td>\n",
       "    </tr>\n",
       "    <tr>\n",
       "      <th>2</th>\n",
       "      <td>Mon, Oct 13</td>\n",
       "      <td>10511</td>\n",
       "      <td>909</td>\n",
       "      <td>167.0</td>\n",
       "      <td>95.0</td>\n",
       "      <td>0.086</td>\n",
       "      <td>0.184</td>\n",
       "      <td>0.569</td>\n",
       "      <td>0.105</td>\n",
       "      <td>0.009</td>\n",
       "    </tr>\n",
       "    <tr>\n",
       "      <th>3</th>\n",
       "      <td>Tue, Oct 14</td>\n",
       "      <td>9871</td>\n",
       "      <td>836</td>\n",
       "      <td>156.0</td>\n",
       "      <td>105.0</td>\n",
       "      <td>0.085</td>\n",
       "      <td>0.187</td>\n",
       "      <td>0.673</td>\n",
       "      <td>0.126</td>\n",
       "      <td>0.011</td>\n",
       "    </tr>\n",
       "    <tr>\n",
       "      <th>4</th>\n",
       "      <td>Wed, Oct 15</td>\n",
       "      <td>10014</td>\n",
       "      <td>837</td>\n",
       "      <td>163.0</td>\n",
       "      <td>64.0</td>\n",
       "      <td>0.084</td>\n",
       "      <td>0.195</td>\n",
       "      <td>0.393</td>\n",
       "      <td>0.076</td>\n",
       "      <td>0.006</td>\n",
       "    </tr>\n",
       "  </tbody>\n",
       "</table>\n",
       "</div>"
      ],
      "text/plain": [
       "          Date  Pageviews  Clicks  Enrollments  Payments    CTP     GC  \\\n",
       "0  Sat, Oct 11       7723     687        134.0      70.0  0.089  0.195   \n",
       "1  Sun, Oct 12       9102     779        147.0      70.0  0.086  0.189   \n",
       "2  Mon, Oct 13      10511     909        167.0      95.0  0.086  0.184   \n",
       "3  Tue, Oct 14       9871     836        156.0     105.0  0.085  0.187   \n",
       "4  Wed, Oct 15      10014     837        163.0      64.0  0.084  0.195   \n",
       "\n",
       "   Retention     NC     PP  \n",
       "0      0.522  0.102  0.009  \n",
       "1      0.476  0.090  0.008  \n",
       "2      0.569  0.105  0.009  \n",
       "3      0.673  0.126  0.011  \n",
       "4      0.393  0.076  0.006  "
      ]
     },
     "execution_count": 4,
     "metadata": {},
     "output_type": "execute_result"
    }
   ],
   "source": [
    "ds_control['CTP'] = round(ds_control['Clicks']/ds_control['Pageviews'], 3)\n",
    "ds_control['GC'] = round(ds_control['Enrollments']/ds_control['Clicks'], 3)\n",
    "ds_control['Retention'] = round(ds_control['Payments']/ds_control['Enrollments'], 3)\n",
    "ds_control['NC'] = round(ds_control['Payments']/ds_control['Clicks'], 3)\n",
    "ds_control['PP'] = round(ds_control['Payments']/ds_control['Pageviews'], 3)\n",
    "ds_control.head()"
   ]
  },
  {
   "cell_type": "markdown",
   "metadata": {},
   "source": [
    "Проведем разведочный анализ данных. \n",
    "Для этого воспользуемся библиотекой pandas_profiling, \n",
    "которая позволяет получить все необходимые для первичного анализа сведения в формате HTML-отчета:\n",
    "1. тип данных в каждой колонке;\n",
    "2. пропущенные и уникальные значения (количество и процент);\n",
    "3. описательные статистики: квартили, медиану, \n",
    "    межквартильный размах, среднее, моду, абсолютное и \n",
    "    относительное стандартное отклонение, медианное абсолютное отклонение, \n",
    "    коэффициенты асимметрии и эксцесса;\n",
    "4. графики распределений в виде гистограммы частот;\n",
    "5. корреляции между значениями (Пирсона, Спирмена и Кендалла);\n",
    "6. матрица пропущенных значений."
   ]
  },
  {
   "cell_type": "code",
   "execution_count": 5,
   "metadata": {},
   "outputs": [
    {
     "ename": "ModuleNotFoundError",
     "evalue": "No module named 'pandas_profiling'",
     "output_type": "error",
     "traceback": [
      "\u001b[1;31m---------------------------------------------------------------------------\u001b[0m",
      "\u001b[1;31mModuleNotFoundError\u001b[0m                       Traceback (most recent call last)",
      "\u001b[1;32m<ipython-input-5-379685e98ef2>\u001b[0m in \u001b[0;36m<module>\u001b[1;34m\u001b[0m\n\u001b[1;32m----> 1\u001b[1;33m \u001b[1;32mimport\u001b[0m \u001b[0mpandas_profiling\u001b[0m\u001b[1;33m\u001b[0m\u001b[1;33m\u001b[0m\u001b[0m\n\u001b[0m\u001b[0;32m      2\u001b[0m \u001b[0mpandas_profiling\u001b[0m\u001b[1;33m.\u001b[0m\u001b[0mProfileReport\u001b[0m\u001b[1;33m(\u001b[0m\u001b[0mds_control\u001b[0m\u001b[1;33m)\u001b[0m\u001b[1;33m\u001b[0m\u001b[1;33m\u001b[0m\u001b[0m\n",
      "\u001b[1;31mModuleNotFoundError\u001b[0m: No module named 'pandas_profiling'"
     ]
    }
   ],
   "source": [
    "import pandas_profiling\n",
    "pandas_profiling.ProfileReport(ds_control)"
   ]
  },
  {
   "cell_type": "markdown",
   "metadata": {},
   "source": [
    "### Выводы\n"
   ]
  },
  {
   "cell_type": "markdown",
   "metadata": {},
   "source": [
    "<p>\n",
    "Благодаря отчету, полученному с помощью pandas_profiling можно сделат несколько полезных для нас выводов:\n",
    "    <br>\n",
    "    <br>\n",
    "    1. Глядя на описательные статистики и гистограммы видно, что наши данные (Date, Pageviews, Clicks, Enrollments,Payments) не содержат выбросов. Поэтому во время проведения AB-теста их ждать не стоит, что облегчает нам задачу. \n",
    "    <br>\n",
    "    <br>\n",
    "    2. Гистограммы частот говорят о том, что половина распределений наших данных принадлежат к классу нормальных (Pageviews, Enrollments), а распределение другой половины напоминает раномерное (Clicks, Payments).  \n",
    "    <br>\n",
    "    <br>\n",
    "    3. Глядя на построенную матрицу корреляций, а также на специальные сообщения (allerts) замечаем, что многие из наших \n",
    "    данных сильно корреляируют друг с другом. Например число кликов по кнопке с регистрацией на пробный период (Clicks) зависит от числа просмотров страницы курса (Pageviews), число платящих пользователей (Payments) зависит от числа регистраций на курс (Enrollements). Стоит отметить, что хотя наличие корреляции не влияет на алгоритм проведения AB-теста, но полученные зависимости расширяют наши знания о предметной области.\n",
    "    <br>\n",
    "    <br>\n",
    "    4.Глядя на матрицу пропущенных значений, видим, что они у нас имеются, причем носят систематический характер и их \n",
    "    довольно много (37.8% значений отсутствует у Enrollements и Payments, поэтому столько же пропусков имеют и наши метрики (GC, Retention, NC, PTP), которые получаются из них простыми арифметическими преобразованиями. Это необходимо учитывать при проведении AB-теста.\n",
    "</p>"
   ]
  },
  {
   "cell_type": "code",
   "execution_count": null,
   "metadata": {},
   "outputs": [],
   "source": []
  }
 ],
 "metadata": {
  "kernelspec": {
   "display_name": "Python 3",
   "language": "python",
   "name": "python3"
  },
  "language_info": {
   "codemirror_mode": {
    "name": "ipython",
    "version": 3
   },
   "file_extension": ".py",
   "mimetype": "text/x-python",
   "name": "python",
   "nbconvert_exporter": "python",
   "pygments_lexer": "ipython3",
   "version": "3.8.8"
  }
 },
 "nbformat": 4,
 "nbformat_minor": 4
}
